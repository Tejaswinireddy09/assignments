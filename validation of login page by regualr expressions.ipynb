{
 "cells": [
  {
   "attachments": {},
   "cell_type": "markdown",
   "metadata": {},
   "source": [
    "email verification"
   ]
  },
  {
   "cell_type": "code",
   "execution_count": 1,
   "metadata": {},
   "outputs": [
    {
     "name": "stdout",
     "output_type": "stream",
     "text": [
      "ktejaswini@ is inavlid.\n"
     ]
    }
   ],
   "source": [
    "import re\n",
    "pattern=\"^[a-z 0-9]+[\\._]?[a-z 0-9]+[@]\\w+[.]\\w{2,3}$\"\n",
    "email_id=input(\"enter your mail id:\")\n",
    "if re.search(pattern,email_id):\n",
    "    print(f\"{email_id} is valid.\")\n",
    "else:\n",
    "    print(f\"{email_id} is inavlid.\")"
   ]
  },
  {
   "attachments": {},
   "cell_type": "markdown",
   "metadata": {},
   "source": [
    "Password authenicate verification"
   ]
  },
  {
   "cell_type": "code",
   "execution_count": 3,
   "metadata": {},
   "outputs": [
    {
     "name": "stdout",
     "output_type": "stream",
     "text": [
      "given passowrd is not valid\n"
     ]
    }
   ],
   "source": [
    "import re\n",
    "flag=0\n",
    "password=input(\"enter your password:\")\n",
    "if  not re.search(\"[a-z]\",password):\n",
    "    flag=1\n",
    "if not re.search(\"[A-Z]\",password):\n",
    "    flag=1    \n",
    "if not re.search(\"[0-9]\",password):\n",
    "    flag=1\n",
    "if not re.search(\"[!@#$&]\",password):\n",
    "    flag=1\n",
    "if len(password)<6:\n",
    "    flag=1\n",
    "if flag==0:\n",
    "    print(\"given password is valid\")\n",
    "else:\n",
    "    print(\"given passowrd is not valid\")    "
   ]
  },
  {
   "attachments": {},
   "cell_type": "markdown",
   "metadata": {},
   "source": [
    "mobile verification"
   ]
  },
  {
   "cell_type": "code",
   "execution_count": 30,
   "metadata": {},
   "outputs": [
    {
     "name": "stdout",
     "output_type": "stream",
     "text": [
      "validnumber\n"
     ]
    }
   ],
   "source": [
    "import re\n",
    "def isvalid(num):\n",
    "  pattern=re.compile(\"(0|91)?[-\\s]?[6-9][0-9]{9}\")\n",
    "  return pattern.match(num)\n",
    "\n",
    "num=input(\"enter your numbr:\")\n",
    "\n",
    "if isvalid (num):\n",
    "    print(\"validnumber\")\n",
    "else:\n",
    "    print(\"not valid phone number.\")    "
   ]
  },
  {
   "attachments": {},
   "cell_type": "markdown",
   "metadata": {},
   "source": [
    "python program validation for signin page"
   ]
  },
  {
   "cell_type": "code",
   "execution_count": 1,
   "metadata": {},
   "outputs": [
    {
     "name": "stdout",
     "output_type": "stream",
     "text": [
      "## welcome to signin app\n",
      "enter valid characters\n",
      " \n",
      "\n",
      "teja\n",
      "teja\n",
      "9618962717\n",
      "Skyblue@9\n"
     ]
    }
   ],
   "source": [
    "### \n",
    "import re\n",
    "print(\"## welcome to signin app\")\n",
    "first_name= input(\"enter your first name:\")\n",
    "match_first=re.match(r'\\D',first_name)\n",
    "if not match_first:\n",
    "    print(\"enter valid characters\")\n",
    "    print(\" \")\n",
    "    first_name=input(\"enter your first name:\")\n",
    "last_name=input(\"enter your last name:\")    \n",
    "match_last=re.match(r'\\D',last_name)\n",
    "if not match_last:\n",
    "    print(\"enter valid characters\")\n",
    "    print(\" \")\n",
    "    last_name=input(\"enter your last name:\")\n",
    "email_id=input(\"enter your mail id:\")     \n",
    "pattern=\"^[a-z 0-9]+[\\._]?[a-z 0-9]+[@]\\w+[.]\\w{2,3}$\"\n",
    "if not pattern:\n",
    "    print(\"enter valid email_id\")\n",
    "    print(\" \")\n",
    "    email_id=input(\"enter your mail id:\")\n",
    "mobile_number=input(\"enter your mobile number:\")\n",
    "pattern_mobile=re.compile(\"(0|91)?[-\\s]?[6-9][0-9]{9}\")    \n",
    "if not pattern_mobile:\n",
    "    print(\"enter valid mobile number\")\n",
    "    print(\"\")\n",
    "    mobile_number=input(\"enter your mobile number:\")\n",
    "password=input(\"enter your password:\")\n",
    "flag=0\n",
    "if  not re.search(\"[a-z]\",password):\n",
    "    flag=1\n",
    "if not re.search(\"[A-Z]\",password):\n",
    "    flag=1    \n",
    "if not re.search(\"[0-9]\",password):\n",
    "    flag=1\n",
    "if not re.search(\"[!@#$&]\",password):\n",
    "    flag=1\n",
    "if len(password)<6:\n",
    "    flag=1\n",
    "if flag==0:\n",
    "    print(\"\")    \n",
    "\n",
    "\n",
    "print(first_name)\n",
    "print(last_name)\n",
    "print(mobile_number)\n",
    "print(password)\n",
    "    "
   ]
  }
 ],
 "metadata": {
  "kernelspec": {
   "display_name": "Python 3",
   "language": "python",
   "name": "python3"
  },
  "language_info": {
   "codemirror_mode": {
    "name": "ipython",
    "version": 3
   },
   "file_extension": ".py",
   "mimetype": "text/x-python",
   "name": "python",
   "nbconvert_exporter": "python",
   "pygments_lexer": "ipython3"
  },
  "orig_nbformat": 4,
  "vscode": {
   "interpreter": {
    "hash": "c7af7df4901773a0e355da496bf365ae011b1b331a57bbc9908dae1ee21823d7"
   }
  }
 },
 "nbformat": 4,
 "nbformat_minor": 2
}
